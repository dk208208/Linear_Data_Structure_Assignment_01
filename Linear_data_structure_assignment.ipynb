{
 "cells": [
  {
   "cell_type": "markdown",
   "id": "e4675e1c",
   "metadata": {},
   "source": [
    "### Q1. Write a program to find all pairs of an integer array whose sum is equal to a given number? "
   ]
  },
  {
   "cell_type": "code",
   "execution_count": 80,
   "id": "c67a397c",
   "metadata": {},
   "outputs": [
    {
     "data": {
      "text/plain": [
       "('Total Pair : ', 3)"
      ]
     },
     "execution_count": 80,
     "metadata": {},
     "output_type": "execute_result"
    }
   ],
   "source": [
    "# Solution1: \n",
    "\n",
    "def find_all_pair(arr, target):\n",
    "    count = 0\n",
    "    for i in range(len(arr) - 1):\n",
    "        for j in range(i + 1, len(arr)):\n",
    "            if arr[i] + arr[j] == target:\n",
    "                count += 1\n",
    "    output = \"Total Pair : \",count            \n",
    "    return   output\n",
    "    print(\"Pair not found\")\n",
    "    \n",
    "    \n",
    "#-------------------------------Input\n",
    "A = [6, 7, 2, 5, 3, 1]\n",
    "target = 8\n",
    "find_all_pair(A, target)\n",
    "\n"
   ]
  },
  {
   "cell_type": "code",
   "execution_count": null,
   "id": "27842a7d",
   "metadata": {},
   "outputs": [],
   "source": [
    "# ===================================================================================================================="
   ]
  },
  {
   "cell_type": "markdown",
   "id": "34aa49cb",
   "metadata": {},
   "source": [
    "### Q2. Write a program to reverse an array in place? In place means you cannot create a new array. You have to update the original array. \n"
   ]
  },
  {
   "cell_type": "code",
   "execution_count": 78,
   "id": "77165f9b",
   "metadata": {},
   "outputs": [
    {
     "data": {
      "text/plain": [
       "[85, 4, 5, 84, 7, 10, 5]"
      ]
     },
     "execution_count": 78,
     "metadata": {},
     "output_type": "execute_result"
    }
   ],
   "source": [
    "# solution2:\n",
    "\n",
    "def reverse_array(arr):\n",
    "    arr.reverse()\n",
    "    return arr\n",
    "    \n",
    "#--------------------------Input    \n",
    "A = [5,10,7,84,5,4,85]   \n",
    "reverse_array(A)\n"
   ]
  },
  {
   "cell_type": "code",
   "execution_count": null,
   "id": "0e4e5231",
   "metadata": {},
   "outputs": [],
   "source": [
    "# ===================================================================================================================="
   ]
  },
  {
   "cell_type": "markdown",
   "id": "95bfdf4e",
   "metadata": {},
   "source": [
    "###  Q3. Write a program to check if two strings are a rotation of each other?"
   ]
  },
  {
   "cell_type": "code",
   "execution_count": 78,
   "id": "67f8270a",
   "metadata": {},
   "outputs": [
    {
     "data": {
      "text/plain": [
       "True"
      ]
     },
     "execution_count": 78,
     "metadata": {},
     "output_type": "execute_result"
    }
   ],
   "source": [
    "# Solution3:\n",
    "\n",
    "def rotation(str1, str2):\n",
    "    if len(str1) != len(str2):\n",
    "        return False\n",
    "    temp = str1 \n",
    "    if temp.count(str2)> 0:\n",
    "        return True\n",
    "    return False\n",
    "\n",
    "# ------------------------------Input\n",
    "str1 = \"ABCD\"\n",
    "str2 = \"ABCD\"\n",
    "rotation(str1,str2)\n"
   ]
  },
  {
   "cell_type": "code",
   "execution_count": null,
   "id": "d05a3da3",
   "metadata": {},
   "outputs": [],
   "source": [
    "# ======================================================================================================================"
   ]
  },
  {
   "cell_type": "markdown",
   "id": "e07cbc43",
   "metadata": {},
   "source": [
    "###   Q4. Write a program to print the first non-repeated character from a string?"
   ]
  },
  {
   "cell_type": "code",
   "execution_count": 76,
   "id": "124613d0",
   "metadata": {},
   "outputs": [
    {
     "data": {
      "text/plain": [
       "'S'"
      ]
     },
     "execution_count": 76,
     "metadata": {},
     "output_type": "execute_result"
    }
   ],
   "source": [
    "# Solution4:\n",
    "\n",
    "def non_repeated_Char(str1):\n",
    "    char_order = []\n",
    "    counts = {}\n",
    "    for i in str1:\n",
    "        if i in counts:\n",
    "            counts[i] += 1\n",
    "        else:\n",
    "            counts[i] = 1\n",
    "            char_order.append(i)\n",
    "    for c in char_order:\n",
    "        if counts[c] == 1:\n",
    "            return c\n",
    "    return None\n",
    "\n",
    "\n",
    "#----------------------------- Input\n",
    "\n",
    "non_repeated_Char('ADADSFGDHDHGQW')\n"
   ]
  },
  {
   "cell_type": "code",
   "execution_count": null,
   "id": "d15747bf",
   "metadata": {},
   "outputs": [],
   "source": [
    "# ============================================================================================================"
   ]
  },
  {
   "cell_type": "markdown",
   "id": "f1e9abeb",
   "metadata": {},
   "source": [
    "### Q5. Read about the Tower of Hanoi algorithm. Write a program to implement it."
   ]
  },
  {
   "cell_type": "code",
   "execution_count": 115,
   "id": "bb68df71",
   "metadata": {},
   "outputs": [
    {
     "name": "stdout",
     "output_type": "stream",
     "text": [
      "Move disk 1 from rod A to rod B\n",
      "Move disk 2 from rod A to rod C\n",
      "Move disk 1 from rod B to rod C\n"
     ]
    }
   ],
   "source": [
    "# Solution5:\n",
    "\n",
    "def TowerOfHanoi(n , from_rod, to_rod, aux_rod):\n",
    "    if n == 1:\n",
    "        print(\"Move disk 1 from rod\",from_rod,\"to rod\",to_rod)\n",
    "        return\n",
    "    TowerOfHanoi(n-1, from_rod, aux_rod, to_rod)\n",
    "    print(\"Move disk\",n,\"from rod\",from_rod,\"to rod\",to_rod)\n",
    "    TowerOfHanoi(n-1, aux_rod, to_rod, from_rod)\n",
    "n = 2\n",
    "TowerOfHanoi(n, 'A', 'C', 'B')"
   ]
  },
  {
   "cell_type": "code",
   "execution_count": null,
   "id": "f88e38a8",
   "metadata": {},
   "outputs": [],
   "source": [
    "# ===================================================================================================================="
   ]
  },
  {
   "cell_type": "markdown",
   "id": "9e5e23df",
   "metadata": {},
   "source": [
    "<!-- Q6. Read about infix, prefix, and postfix expressions. Write a program to convert postfix to prefix expression. -->"
   ]
  },
  {
   "cell_type": "markdown",
   "id": "d0c4b538",
   "metadata": {},
   "source": [
    "### Q6. Read about infix, prefix, and postfix expressions. Write a program to convert postfix to prefix expression."
   ]
  },
  {
   "cell_type": "code",
   "execution_count": 75,
   "id": "c1092955",
   "metadata": {},
   "outputs": [
    {
     "data": {
      "text/plain": [
       "' +BA-DC'"
      ]
     },
     "execution_count": 75,
     "metadata": {},
     "output_type": "execute_result"
    }
   ],
   "source": [
    "# Solution6:\n",
    "\n",
    "def operator(x):\n",
    "    if x == \"+\":\n",
    "        return True\n",
    "    if x == \"-\":\n",
    "        return True\n",
    "    if x == \"*\":\n",
    "        return True\n",
    "    if x == \"/\":\n",
    "        return True\n",
    "    return False\n",
    "        \n",
    "def post_to_pre(exp):\n",
    "    list1 = []\n",
    "    for i in range(len(exp)):\n",
    "        if (operator(exp[i])):\n",
    "            char1 = list1[-1]\n",
    "            list1.pop()\n",
    "            char2 = list1[-1]\n",
    "            list1.pop()\n",
    "            temp = exp[i] + char1 + char2\n",
    "            list1.append(temp)\n",
    "        else:\n",
    "            list1.append(exp[i])\n",
    "    str1 = \" \"\n",
    "    for i in list1:\n",
    "        str1 += i\n",
    "    return str1\n",
    "\n",
    "# ------------------------------Input\n",
    "\n",
    "postfix = \"AB+CD-\"\n",
    "post_to_pre(postfix)\n",
    "    "
   ]
  },
  {
   "cell_type": "code",
   "execution_count": null,
   "id": "0fb55f6e",
   "metadata": {},
   "outputs": [],
   "source": [
    "# ==================================================================================================================="
   ]
  },
  {
   "cell_type": "markdown",
   "id": "fc515896",
   "metadata": {},
   "source": [
    "### Q7. Write a program to convert prefix expression to infix expression."
   ]
  },
  {
   "cell_type": "code",
   "execution_count": 83,
   "id": "80b1839a",
   "metadata": {},
   "outputs": [
    {
     "data": {
      "text/plain": [
       "'((A-(B/C))*((A/K)-L))'"
      ]
     },
     "execution_count": 83,
     "metadata": {},
     "output_type": "execute_result"
    }
   ],
   "source": [
    "# Solution7:\n",
    "\n",
    "def operator(x):\n",
    "    if x == \"+\":\n",
    "        return True\n",
    "    if x == \"-\":\n",
    "        return True\n",
    "    if x == \"*\":\n",
    "        return True\n",
    "    if x == \"/\":\n",
    "        return True\n",
    "    return False\n",
    "\n",
    "def prefix_to_infix(exp):\n",
    "    list1 = []\n",
    "    i = (len(exp)-1)\n",
    "    while  i >=0:\n",
    "        if not operator(exp[i]):\n",
    "            list1.append(exp[i])\n",
    "            i -= 1\n",
    "        else:\n",
    "            str1 = \"(\" + list1.pop() + exp[i] + list1.pop() + \")\"\n",
    "            list1.append(str1)\n",
    "            i -= 1\n",
    "    return list1.pop()\n",
    "            \n",
    "    \n",
    "    \n",
    "# -------------------------------Input\n",
    "prefix = \"*-A/BC-/AKL\"\n",
    "prefix_to_infix(prefix)\n"
   ]
  },
  {
   "cell_type": "code",
   "execution_count": null,
   "id": "91bac25a",
   "metadata": {},
   "outputs": [],
   "source": [
    "# ===================================================================================================================="
   ]
  },
  {
   "cell_type": "markdown",
   "id": "121f4df5",
   "metadata": {},
   "source": [
    "<!-- Q7. Write a program to convert prefix expression to infix expression. -->"
   ]
  },
  {
   "cell_type": "markdown",
   "id": "1e10d05f",
   "metadata": {},
   "source": [
    "### Q8. Write a program to check if all the brackets are closed in a given code snippet."
   ]
  },
  {
   "cell_type": "code",
   "execution_count": 89,
   "id": "c42db2c0",
   "metadata": {},
   "outputs": [
    {
     "name": "stdout",
     "output_type": "stream",
     "text": [
      "Balanced\n"
     ]
    }
   ],
   "source": [
    "# Solution8:\n",
    "\n",
    "def Brackets_are_Balanced(exp):\n",
    "    stack = []\n",
    "    for char in exp:\n",
    "        if char in [\"(\", \"{\", \"[\"]:\n",
    "            stack.append(char)\n",
    "        else:\n",
    "            if not stack:\n",
    "                return False\n",
    "            current_char = stack.pop()\n",
    "            if current_char == '(':\n",
    "                if char != \")\":\n",
    "                    return False\n",
    "            if current_char == '{':\n",
    "                if char != \"}\":\n",
    "                    return False\n",
    "            if current_char == '[':\n",
    "                if char != \"]\":\n",
    "                    return False\n",
    "    if stack:\n",
    "        return False\n",
    "    return True\n",
    "\n",
    "# --------------------------Input\n",
    "expr = \"{()}[]\"\n",
    "if Brackets_are_Balanced(expr):\n",
    "    print(\"Balanced\")\n",
    "else:\n",
    "    print(\"Not Balanced\")"
   ]
  },
  {
   "cell_type": "code",
   "execution_count": null,
   "id": "d47d03c5",
   "metadata": {},
   "outputs": [],
   "source": [
    "# ===================================================================================================================="
   ]
  },
  {
   "cell_type": "markdown",
   "id": "ec1f62a7",
   "metadata": {},
   "source": [
    "### Q9. Write a program to reverse a stack."
   ]
  },
  {
   "cell_type": "code",
   "execution_count": null,
   "id": "785f4322",
   "metadata": {},
   "outputs": [],
   "source": []
  },
  {
   "cell_type": "code",
   "execution_count": 106,
   "id": "ee275b9e",
   "metadata": {},
   "outputs": [
    {
     "name": "stdout",
     "output_type": "stream",
     "text": [
      "Original Stack\n",
      "5\n",
      "4\n",
      "3\n",
      "2\n",
      "1\n",
      "\n",
      "Stack after Reversing\n",
      "1\n",
      "2\n",
      "3\n",
      "4\n",
      "5\n"
     ]
    }
   ],
   "source": [
    "class Stack:\n",
    " \n",
    "    def __init__(self):\n",
    "        self.Elements = []\n",
    "    def push(self, value):\n",
    "        self.Elements.append(value)\n",
    "    def pop(self):\n",
    "        return self.Elements.pop()\n",
    "    def empty(self):\n",
    "        return self.Elements == []\n",
    "    def show(self):\n",
    "        for value in reversed(self.Elements):\n",
    "            print(value)\n",
    "    def BottomInsert(s, value):\n",
    "        if s.empty():\n",
    "            s.push(value)\n",
    "        else:\n",
    "            popped = s.pop()\n",
    "            BottomInsert(s, value)\n",
    "            s.push(popped)\n",
    "    def Reverse(s):\n",
    "        if s.empty():\n",
    "            pass\n",
    "        else:\n",
    "            popped = s.pop()\n",
    "            Reverse(s)\n",
    "            BottomInsert(s, popped)\n",
    "\n",
    "            \n",
    "#---------------------------------------Input\n",
    "stk = Stack()\n",
    "stk.push(1)\n",
    "stk.push(2)\n",
    "stk.push(3)\n",
    "stk.push(4)\n",
    "stk.push(5)\n",
    " \n",
    "print(\"Original Stack\")\n",
    "stk.show()\n",
    " \n",
    "print(\"\\nStack after Reversing\")\n",
    "Reverse(stk)\n",
    "stk.show()"
   ]
  },
  {
   "cell_type": "code",
   "execution_count": null,
   "id": "37baab9a",
   "metadata": {},
   "outputs": [],
   "source": [
    "# ===================================================================================================================="
   ]
  },
  {
   "cell_type": "markdown",
   "id": "9fa74bdb",
   "metadata": {},
   "source": [
    "### Q10. Write a program to find the smallest number using a stack. "
   ]
  },
  {
   "cell_type": "code",
   "execution_count": 128,
   "id": "67a47caa",
   "metadata": {},
   "outputs": [
    {
     "data": {
      "text/plain": [
       "3"
      ]
     },
     "execution_count": 128,
     "metadata": {},
     "output_type": "execute_result"
    }
   ],
   "source": [
    "# Solution10:\n",
    "\n",
    "from collections import deque\n",
    "\n",
    "class MinStack:\n",
    "    def __init__(self):\n",
    "        self.s = deque()\n",
    "        self.min = None\n",
    "    def push(self, x):\n",
    "        if not self.s:\n",
    "            self.s.append(x)\n",
    "            self.min = x\n",
    "        elif x > self.min:\n",
    "            self.s.append(x)\n",
    "        else:\n",
    "            self.s.append(2*x - self.min)\n",
    "            self.min = x\n",
    "    def pop(self):\n",
    "        if not self.s:\n",
    "            self.print(\"Stack underflow!!\")\n",
    "        top = self.s[-1]\n",
    "        if top < self.min:\n",
    "            self.min = 2*self.min - top\n",
    "        self.s.pop()\n",
    "    def minimum(self):\n",
    "        output = self.min\n",
    "        return output\n",
    "\n",
    "#-----------------------------Input\n",
    "s = MinStack()\n",
    "s.push(6)\n",
    "s.push(7)\n",
    "s.push(5)\n",
    "s.push(8)\n",
    "s.push(3)\n",
    "s.minimum()"
   ]
  },
  {
   "cell_type": "code",
   "execution_count": null,
   "id": "9b2851a2",
   "metadata": {},
   "outputs": [],
   "source": []
  }
 ],
 "metadata": {
  "kernelspec": {
   "display_name": "Python 3",
   "language": "python",
   "name": "python3"
  },
  "language_info": {
   "codemirror_mode": {
    "name": "ipython",
    "version": 3
   },
   "file_extension": ".py",
   "mimetype": "text/x-python",
   "name": "python",
   "nbconvert_exporter": "python",
   "pygments_lexer": "ipython3",
   "version": "3.9.5"
  }
 },
 "nbformat": 4,
 "nbformat_minor": 5
}
